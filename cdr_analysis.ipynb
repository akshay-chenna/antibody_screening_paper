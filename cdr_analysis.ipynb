{
 "cells": [
  {
   "cell_type": "markdown",
   "id": "f483bd16-8feb-4fbd-96ad-de45123547d2",
   "metadata": {},
   "source": [
    "# Script to analyze the cluster.sc output"
   ]
  },
  {
   "cell_type": "markdown",
   "id": "aa24fa3d-f0c7-46e2-a842-c3eee5d3cbb5",
   "metadata": {},
   "source": [
    "## Find unique cluster combinations"
   ]
  },
  {
   "cell_type": "code",
   "execution_count": 1,
   "id": "08a53129-4341-46a2-9491-7601b6ec9cab",
   "metadata": {},
   "outputs": [],
   "source": [
    "import numpy as np\n",
    "import pandas as pd\n",
    "import matplotlib.pyplot as plt"
   ]
  },
  {
   "cell_type": "code",
   "execution_count": 2,
   "id": "c35bc17d-ae3c-4f77-8fd1-c71e5f1be6b0",
   "metadata": {},
   "outputs": [],
   "source": [
    "#df = pd.read_table('clusters.sc', skipinitialspace=True, sep=' ', na_values=['nan','NA', 'NaN'], keep_default_na=False)\n",
    "df = pd.read_table('clusters.sc', skipinitialspace=True, sep=' ')\n",
    "df = df.iloc[:,:-1]\n",
    "df = df.dropna()"
   ]
  },
  {
   "cell_type": "code",
   "execution_count": 3,
   "id": "f2a3e622-cd30-4c4c-b7d7-d5a9c329cc42",
   "metadata": {},
   "outputs": [],
   "source": [
    "H1 = df['H1_cluster'].unique()\n",
    "H2 = df['H2_cluster'].unique()\n",
    "H3 = df['H3_cluster'].unique()\n",
    "L1 = df['L1_cluster'].unique()\n",
    "L2 = df['L2_cluster'].unique()\n",
    "L3 = df['L3_cluster'].unique()"
   ]
  },
  {
   "cell_type": "code",
   "execution_count": 4,
   "id": "0a3ef6fd-0d94-43e4-a975-7e64be72a873",
   "metadata": {},
   "outputs": [
    {
     "data": {
      "text/plain": [
       "array(['H1-13-1', 'H1-15-1', 'H1-14-1', 'H1-12-1', 'H1-13-4', 'H1-13-7',\n",
       "       'H1-13-8', 'H1-13-5', 'H1-16-1', 'H1-13-9', 'H1-13-cis9-1',\n",
       "       'H1-13-3', 'H1-10-1'], dtype=object)"
      ]
     },
     "execution_count": 4,
     "metadata": {},
     "output_type": "execute_result"
    }
   ],
   "source": [
    "H1"
   ]
  },
  {
   "cell_type": "code",
   "execution_count": 5,
   "id": "dd2617a3-872d-4c79-876d-0ea5e5e5679f",
   "metadata": {},
   "outputs": [],
   "source": [
    "H1_array = np.array(df['H1_cluster'])\n",
    "H2_array = np.array(df['H2_cluster'])\n",
    "H3_array = np.array(df['H3_cluster'])\n",
    "L1_array = np.array(df['L1_cluster'])\n",
    "L2_array = np.array(df['L2_cluster'])\n",
    "L3_array = np.array(df['L3_cluster'])"
   ]
  },
  {
   "cell_type": "code",
   "execution_count": 6,
   "id": "0aa2bcb3-8989-4201-b9c3-e4e4205c6e46",
   "metadata": {},
   "outputs": [],
   "source": [
    "H1_vec = np.zeros(df.shape[0])\n",
    "for i,_ in enumerate(H1):\n",
    "    H1_vec += (i+1)*np.array(H1_array == H1[i]).astype(int)"
   ]
  },
  {
   "cell_type": "code",
   "execution_count": 7,
   "id": "fef5e1ae-b28e-4fa4-b902-d0d33aff602a",
   "metadata": {},
   "outputs": [],
   "source": [
    "H2_vec = np.zeros(df.shape[0])\n",
    "for i,_ in enumerate(H2):\n",
    "    H2_vec += (i+1)*np.array(H2_array == H2[i]).astype(int)"
   ]
  },
  {
   "cell_type": "code",
   "execution_count": 8,
   "id": "1b575562-263e-4eff-a915-339e99739f87",
   "metadata": {},
   "outputs": [],
   "source": [
    "H3_vec = np.zeros(df.shape[0])\n",
    "for i,_ in enumerate(H3):\n",
    "    H3_vec += (i+1)*np.array(H3_array == H3[i]).astype(int)"
   ]
  },
  {
   "cell_type": "code",
   "execution_count": 9,
   "id": "833d499e-19d6-448a-9a85-e3fb91aabb87",
   "metadata": {},
   "outputs": [],
   "source": [
    "L1_vec = np.zeros(df.shape[0])\n",
    "for i,_ in enumerate(L1):\n",
    "    L1_vec += (i+1)*np.array(L1_array == L1[i]).astype(int)"
   ]
  },
  {
   "cell_type": "code",
   "execution_count": 10,
   "id": "6f27edda-a25f-449c-90e0-22f763ba296d",
   "metadata": {},
   "outputs": [],
   "source": [
    "L2_vec = np.zeros(df.shape[0])\n",
    "for i,_ in enumerate(L2):\n",
    "    L2_vec += (i+1)*np.array(L2_array == L2[i]).astype(int)"
   ]
  },
  {
   "cell_type": "code",
   "execution_count": 11,
   "id": "dc5b57cf-8ca4-4f01-a4cd-73dc9528ef5a",
   "metadata": {},
   "outputs": [],
   "source": [
    "L3_vec = np.zeros(df.shape[0])\n",
    "for i,_ in enumerate(L3):\n",
    "    L3_vec += (i+1)*np.array(L3_array == L3[i]).astype(int)"
   ]
  },
  {
   "cell_type": "code",
   "execution_count": 12,
   "id": "878fcfbe-4e36-4b96-a102-8c64002fe976",
   "metadata": {},
   "outputs": [],
   "source": [
    "cluster_array = np.vstack([H1_vec, H2_vec,H3_vec,L1_vec,L2_vec,L3_vec]).T"
   ]
  },
  {
   "cell_type": "code",
   "execution_count": 16,
   "id": "faf13c56-791f-4eb1-96d0-5ac9ff65a6a9",
   "metadata": {},
   "outputs": [],
   "source": [
    "arr = np.unique(cluster_array,return_index=True, axis=0) ## This is the unique cluster combinations"
   ]
  },
  {
   "cell_type": "code",
   "execution_count": 25,
   "id": "e0c0291c-fd9f-4edf-973f-ed7e62395494",
   "metadata": {},
   "outputs": [
    {
     "data": {
      "text/plain": [
       "(90881, 6)"
      ]
     },
     "execution_count": 25,
     "metadata": {},
     "output_type": "execute_result"
    }
   ],
   "source": [
    "cluster_array.shape"
   ]
  },
  {
   "cell_type": "code",
   "execution_count": 26,
   "id": "4ec43cb6-8800-4b12-8e7d-0a8f96da799e",
   "metadata": {},
   "outputs": [
    {
     "data": {
      "text/plain": [
       "90881"
      ]
     },
     "execution_count": 26,
     "metadata": {},
     "output_type": "execute_result"
    }
   ],
   "source": [
    "len(df)"
   ]
  },
  {
   "cell_type": "code",
   "execution_count": 18,
   "id": "70809102-66b9-43f4-b8b6-45f92d5580b0",
   "metadata": {},
   "outputs": [
    {
     "data": {
      "text/plain": [
       "(8947, 6)"
      ]
     },
     "execution_count": 18,
     "metadata": {},
     "output_type": "execute_result"
    }
   ],
   "source": [
    "arr[0].shape"
   ]
  },
  {
   "cell_type": "code",
   "execution_count": 19,
   "id": "3118d119-27cd-4c4f-bdad-b16eb96df41e",
   "metadata": {},
   "outputs": [
    {
     "data": {
      "text/plain": [
       "array([    0, 12171, 19241, ..., 30373, 36645, 71636])"
      ]
     },
     "execution_count": 19,
     "metadata": {},
     "output_type": "execute_result"
    }
   ],
   "source": [
    "arr[1]"
   ]
  },
  {
   "cell_type": "code",
   "execution_count": 37,
   "id": "8ddd4432-a2e9-4001-9be6-cae722cd5274",
   "metadata": {},
   "outputs": [],
   "source": [
    "names_9k = df.iloc[arr[1],-1].to_list()"
   ]
  },
  {
   "cell_type": "code",
   "execution_count": 50,
   "id": "1dd9703c-42a7-4e1d-83ac-9073a08aa324",
   "metadata": {},
   "outputs": [],
   "source": [
    "names_9k = [i[:-5] for i in names_9k]"
   ]
  },
  {
   "cell_type": "code",
   "execution_count": 52,
   "id": "050a3921-c58a-44f4-a1cd-3352c21840c8",
   "metadata": {},
   "outputs": [],
   "source": [
    "with open(r'names_unique_9k.txt', 'w') as fp:\n",
    "    fp.write('\\n'.join(names_9k))"
   ]
  },
  {
   "cell_type": "code",
   "execution_count": 134,
   "id": "5115fb63-b6b9-422d-89e6-daa7f5cf09ad",
   "metadata": {},
   "outputs": [
    {
     "data": {
      "text/plain": [
       "(1240, 5)"
      ]
     },
     "execution_count": 134,
     "metadata": {},
     "output_type": "execute_result"
    }
   ],
   "source": [
    "cluster_array_noH3 = np.vstack([H1_vec, H2_vec,L1_vec,L2_vec,L3_vec]).T\n",
    "np.unique(cluster_array_noH3,axis=0).shape"
   ]
  }
 ],
 "metadata": {
  "kernelspec": {
   "display_name": "Python 3 (ipykernel)",
   "language": "python",
   "name": "python3"
  },
  "language_info": {
   "codemirror_mode": {
    "name": "ipython",
    "version": 3
   },
   "file_extension": ".py",
   "mimetype": "text/x-python",
   "name": "python",
   "nbconvert_exporter": "python",
   "pygments_lexer": "ipython3",
   "version": "3.9.12"
  }
 },
 "nbformat": 4,
 "nbformat_minor": 5
}
